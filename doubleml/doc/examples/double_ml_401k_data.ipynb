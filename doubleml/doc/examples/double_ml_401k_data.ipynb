{
 "cells": [
  {
   "cell_type": "markdown",
   "metadata": {},
   "source": [
    "# Double/Debiased Machine Learning: 401k Data"
   ]
  },
  {
   "cell_type": "code",
   "execution_count": null,
   "metadata": {},
   "outputs": [],
   "source": [
    "import numpy as np\n",
    "import pandas as pd\n",
    "\n",
    "import matplotlib.pyplot as plt\n",
    "import seaborn as sns\n",
    "\n",
    "from scipy.linalg import toeplitz\n",
    "\n",
    "from sklearn.model_selection import KFold\n",
    "from sklearn.base import clone\n",
    "\n",
    "from sklearn.preprocessing import PolynomialFeatures, OneHotEncoder\n",
    "\n",
    "from sklearn.linear_model import LinearRegression, Lasso\n",
    "from sklearn.ensemble import RandomForestClassifier, RandomForestRegressor\n",
    "\n",
    "import doubleml as dml\n",
    "from doubleml.datasets import fetch_bonus"
   ]
  },
  {
   "cell_type": "code",
   "execution_count": null,
   "metadata": {},
   "outputs": [],
   "source": [
    "plt.rcParams['figure.figsize'] = 14, 6\n",
    "sns.set()"
   ]
  },
  {
   "cell_type": "code",
   "execution_count": null,
   "metadata": {},
   "outputs": [],
   "source": [
    "raw_data = dml.datasets.fetch_401K()\n",
    "raw_data.head()"
   ]
  },
  {
   "cell_type": "code",
   "execution_count": null,
   "metadata": {},
   "outputs": [],
   "source": [
    "y_col = 'net_tfa'\n",
    "d_cols = ['e401']\n",
    "x_cols = ['age', 'inc', 'educ', 'fsize', 'marr', 'twoearn', 'db', 'pira', 'hown']\n",
    "dml_data = dml.DoubleMLData(raw_data, y_col, d_cols, x_cols)\n",
    "dml_data"
   ]
  },
  {
   "cell_type": "code",
   "execution_count": null,
   "metadata": {},
   "outputs": [],
   "source": [
    "# Set machine learning methods for m & g\n",
    "learner = RandomForestRegressor(max_depth=2, n_estimators=100)\n",
    "ml_learners = {'ml_m': clone(learner),\n",
    "               'ml_g': clone(learner)}\n",
    "n_folds = 2\n",
    "n_rep_cross_fit=100\n",
    "\n",
    "dml_plr_obj_rf = dml.DoubleMLPLR(dml_data,\n",
    "                                 ml_learners,\n",
    "                                 n_folds,\n",
    "                                 n_rep_cross_fit,\n",
    "                                 'IV-type',\n",
    "                                 'dml1')"
   ]
  },
  {
   "cell_type": "code",
   "execution_count": null,
   "metadata": {},
   "outputs": [],
   "source": [
    "dml_plr_obj_rf.fit()\n",
    "dml_plr_obj_rf.summary"
   ]
  },
  {
   "cell_type": "code",
   "execution_count": null,
   "metadata": {},
   "outputs": [],
   "source": [
    "poly = PolynomialFeatures(2, include_bias=False)\n",
    "data_transf = poly.fit_transform(raw_data[x_cols])\n",
    "x_cols_lasso = poly.get_feature_names(x_cols)\n",
    "\n",
    "data_transf = pd.DataFrame(data_transf, columns=x_cols_lasso)\n",
    "data_transf = pd.concat((raw_data[[y_col] + d_cols], data_transf),\n",
    "                        axis=1, sort=False)\n",
    "\n",
    "dml_data_lasso = dml.DoubleMLData(data_transf, y_col, d_cols, x_cols_lasso)\n",
    "dml_data_lasso"
   ]
  },
  {
   "cell_type": "code",
   "execution_count": null,
   "metadata": {},
   "outputs": [],
   "source": [
    "# Set machine learning methods for m & g\n",
    "learner = Lasso(alpha=0.1)\n",
    "ml_learners = {'ml_m': clone(learner),\n",
    "               'ml_g': clone(learner)}\n",
    "n_folds = 2\n",
    "n_rep_cross_fit=100\n",
    "\n",
    "dml_plr_obj_lasso = dml.DoubleMLPLR(dml_data_lasso,\n",
    "                                    ml_learners,\n",
    "                                    n_folds,\n",
    "                                    n_rep_cross_fit,\n",
    "                                    'DML2018',\n",
    "                                    'dml2')"
   ]
  },
  {
   "cell_type": "code",
   "execution_count": null,
   "metadata": {},
   "outputs": [],
   "source": [
    "dml_plr_obj_lasso.fit()\n",
    "dml_plr_obj_lasso.summary"
   ]
  },
  {
   "cell_type": "code",
   "execution_count": null,
   "metadata": {},
   "outputs": [],
   "source": [
    "# Set machine learning methods for m & g\n",
    "ml_learners = {'ml_m': RandomForestClassifier(max_depth=2, n_estimators=100),\n",
    "               'ml_g': RandomForestRegressor(max_depth=2, n_estimators=100)}\n",
    "n_folds = 2\n",
    "n_rep_cross_fit=100\n",
    "\n",
    "dml_irm_obj = dml.DoubleMLIRM(dml_data,\n",
    "                              ml_learners,\n",
    "                              n_folds,\n",
    "                              n_rep_cross_fit,\n",
    "                              'ATE',\n",
    "                              'dml2')"
   ]
  },
  {
   "cell_type": "code",
   "execution_count": null,
   "metadata": {},
   "outputs": [],
   "source": [
    "dml_irm_obj.fit()\n",
    "dml_irm_obj.summary"
   ]
  },
  {
   "cell_type": "code",
   "execution_count": null,
   "metadata": {},
   "outputs": [],
   "source": []
  }
 ],
 "metadata": {
  "kernelspec": {
   "display_name": "Python 3",
   "language": "python",
   "name": "python3"
  },
  "language_info": {
   "codemirror_mode": {
    "name": "ipython",
    "version": 3
   },
   "file_extension": ".py",
   "mimetype": "text/x-python",
   "name": "python",
   "nbconvert_exporter": "python",
   "pygments_lexer": "ipython3",
   "version": "3.8.2"
  },
  "toc": {
   "base_numbering": 1,
   "nav_menu": {},
   "number_sections": true,
   "sideBar": true,
   "skip_h1_title": false,
   "title_cell": "Table of Contents",
   "title_sidebar": "Contents",
   "toc_cell": false,
   "toc_position": {},
   "toc_section_display": true,
   "toc_window_display": false
  }
 },
 "nbformat": 4,
 "nbformat_minor": 2
}
