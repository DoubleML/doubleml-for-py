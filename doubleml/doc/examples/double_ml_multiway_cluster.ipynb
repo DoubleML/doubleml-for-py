{
 "cells": [
  {
   "cell_type": "markdown",
   "metadata": {},
   "source": [
    "# Multiway Cluster Robust Double/Debiased Machine Learning"
   ]
  },
  {
   "cell_type": "code",
   "execution_count": null,
   "metadata": {},
   "outputs": [],
   "source": [
    "import numpy as np\n",
    "import pandas as pd\n",
    "\n",
    "import matplotlib.pyplot as plt\n",
    "import seaborn as sns\n",
    "\n",
    "from scipy.linalg import toeplitz\n",
    "\n",
    "from sklearn.model_selection import KFold, RepeatedKFold\n",
    "from sklearn.base import clone\n",
    "\n",
    "from sklearn.ensemble import RandomForestRegressor\n",
    "from sklearn.linear_model import LinearRegression\n",
    "\n",
    "from doubleml import DoubleMLData, DoubleMLPLIV\n",
    "from doubleml.double_ml_resampling import DoubleMLMultiwayResampling\n",
    "\n",
    "from doubleml.datasets import make_pliv_multiway_cluster_data"
   ]
  },
  {
   "cell_type": "markdown",
   "metadata": {},
   "source": [
    "## Generate data using the example from Chiang et al. (2020) https://arxiv.org/pdf/1909.03489.pdf"
   ]
  },
  {
   "cell_type": "markdown",
   "metadata": {},
   "source": [
    "Chiang et al. (2020) consider double-indexed data $\\lbrace W_{ij}: i \\in \\lbrace 1, \\ldots, N\\rbrace, j \\in \\lbrace 1, \\ldots, M\\rbrace \\rbrace$\n",
    "and the partially linear IV regression model (PLIV)\n",
    "\n",
    "$$\n",
    "Y_{ij} = D_{ij} \\theta_0 +  g_0(X_{ij}) + \\epsilon_{ij}, \\quad \\mathbb{E}(\\epsilon_{ij} | X_{ij}, Z_{ij}) = 0, \\\\\n",
    "Z_{ij} = m_0(X_{ij}) + v_{ij}, \\quad \\mathbb{E}(v_{ij} | X_{ij}) = 0.\n",
    "$$\n",
    "\n",
    "As data generating process Chiang et al. (2020) consider\n",
    "\n",
    "$$\n"
   ]
  },
  {
   "cell_type": "code",
   "execution_count": null,
   "metadata": {},
   "outputs": [],
   "source": [
    "# simulation parameters\n",
    "N = 25 # number of observations (first dimension)\n",
    "M = 25 # number of observations (second dimension)\n",
    "dim_X = 100 # dimenson of X\n",
    "\n",
    "data = make_pliv_multiway_cluster_data(N, M, dim_X, theta)"
   ]
  },
  {
   "cell_type": "code",
   "execution_count": null,
   "metadata": {},
   "outputs": [],
   "source": [
    "# data with multi index for rows (tuples with two entries)\n",
    "data.head(30)"
   ]
  },
  {
   "cell_type": "markdown",
   "metadata": {},
   "source": [
    "## Initialize the objects of class DoubleMLData and DoubleMLPLIV"
   ]
  },
  {
   "cell_type": "code",
   "execution_count": null,
   "metadata": {},
   "outputs": [],
   "source": [
    "# collect data\n",
    "x_cols = data.columns[data.columns.str.startswith('x')].tolist()\n",
    "\n",
    "# Set machine learning methods for m & g\n",
    "learner = RandomForestRegressor(max_depth=2, n_estimators=10)\n",
    "ml_learners = {'ml_m': clone(learner),\n",
    "               'ml_g': clone(learner),\n",
    "               'ml_r': clone(learner)}\n",
    "\n",
    "obj_dml_data = DoubleMLData(data, 'Y', 'D', x_cols, 'Z')\n",
    "\n",
    "dml_pliv_obj = DoubleMLPLIV(obj_dml_data,\n",
    "                            ml_learners,\n",
    "                            inf_model='DML2018',\n",
    "                            dml_procedure='dml1',\n",
    "                            draw_sample_splitting=False)"
   ]
  },
  {
   "cell_type": "markdown",
   "metadata": {},
   "source": [
    "## Split samples and transfer the sample splitting to the object"
   ]
  },
  {
   "cell_type": "code",
   "execution_count": null,
   "metadata": {},
   "outputs": [],
   "source": [
    "K = 3 # number of folds\n",
    "\n",
    "smpl_sizes = [N, M]\n",
    "\n",
    "obj_dml_multiway_resampling = DoubleMLMultiwayResampling(K, smpl_sizes)\n",
    "\n",
    "smpls_multi_ind, smpls_lin_ind = obj_dml_multiway_resampling.split_samples()"
   ]
  },
  {
   "cell_type": "code",
   "execution_count": null,
   "metadata": {},
   "outputs": [],
   "source": [
    "dml_pliv_obj.set_sample_splitting([smpls_lin_ind])"
   ]
  },
  {
   "cell_type": "markdown",
   "metadata": {},
   "source": [
    "## Fit the model and return the fitted parameter"
   ]
  },
  {
   "cell_type": "code",
   "execution_count": null,
   "metadata": {},
   "outputs": [],
   "source": [
    "dml_pliv_obj.fit()"
   ]
  },
  {
   "cell_type": "code",
   "execution_count": null,
   "metadata": {},
   "outputs": [],
   "source": [
    "dml_pliv_obj.summary"
   ]
  },
  {
   "cell_type": "markdown",
   "metadata": {},
   "source": [
    "## Visualization of sample splitting with tuple and linear indexing"
   ]
  },
  {
   "cell_type": "code",
   "execution_count": null,
   "metadata": {},
   "outputs": [],
   "source": [
    "from matplotlib.colors import ListedColormap\n",
    "\n",
    "#discrete color scheme\n",
    "x = sns.color_palette(\"RdBu_r\", 7)\n",
    "cMap = ListedColormap([x[0], x[3], x[6]])"
   ]
  },
  {
   "cell_type": "code",
   "execution_count": null,
   "metadata": {},
   "outputs": [],
   "source": [
    "plt.rcParams['figure.figsize'] = 15, 12\n",
    "sns.set(font_scale=1.3)"
   ]
  },
  {
   "cell_type": "markdown",
   "metadata": {},
   "source": [
    "### Visualize sample splitting with tuples (one plot per fold)"
   ]
  },
  {
   "cell_type": "code",
   "execution_count": null,
   "metadata": {},
   "outputs": [],
   "source": [
    "for i_split, this_split_ind in enumerate(smpls_multi_ind):\n",
    "    plt.subplot(K, K, i_split+1)\n",
    "    df = pd.DataFrame(np.zeros([N,M]))\n",
    "    ind_array_train = np.array([*this_split_ind[0]])\n",
    "    ind_array_test = np.array([*this_split_ind[1]])\n",
    "    df.loc[ind_array_train[:, 0], ind_array_train[:, 1]] = -1.\n",
    "    df.loc[ind_array_test[:, 0], ind_array_test[:, 1]] = 1.\n",
    "    \n",
    "    ax = sns.heatmap(df, cmap=cMap);\n",
    "    ax.invert_yaxis();\n",
    "    ax.set_ylim([0, M]);\n",
    "    colorbar = ax.collections[0].colorbar\n",
    "    colorbar.set_ticks([-0.667, 0, 0.667])\n",
    "    if i_split % K == (K-1):\n",
    "        colorbar.set_ticklabels(['Nuisance', '', 'Score'])\n",
    "    else:\n",
    "        colorbar.set_ticklabels(['', '', ''])"
   ]
  },
  {
   "cell_type": "markdown",
   "metadata": {},
   "source": [
    "### Visualize sample splitting with linear indexing (one column per fold)"
   ]
  },
  {
   "cell_type": "code",
   "execution_count": null,
   "metadata": {},
   "outputs": [],
   "source": [
    "df = pd.DataFrame(np.zeros([N*M, K*K]))\n",
    "for i_split, this_split_ind in enumerate(smpls_lin_ind):\n",
    "    df.loc[this_split_ind[0], i_split] = -1.\n",
    "    df.loc[this_split_ind[1], i_split] = 1.\n",
    "\n",
    "ax = sns.heatmap(df, cmap=cMap);\n",
    "ax.invert_yaxis();\n",
    "ax.set_ylim([0, N*M]);\n",
    "colorbar = ax.collections[0].colorbar\n",
    "colorbar.set_ticks([-0.667, 0, 0.667])\n",
    "colorbar.set_ticklabels(['Nuisance', '', 'Score'])"
   ]
  },
  {
   "cell_type": "code",
   "execution_count": null,
   "metadata": {},
   "outputs": [],
   "source": []
  }
 ],
 "metadata": {
  "kernelspec": {
   "display_name": "Python 3",
   "language": "python",
   "name": "python3"
  },
  "language_info": {
   "codemirror_mode": {
    "name": "ipython",
    "version": 3
   },
   "file_extension": ".py",
   "mimetype": "text/x-python",
   "name": "python",
   "nbconvert_exporter": "python",
   "pygments_lexer": "ipython3",
   "version": "3.8.2"
  },
  "toc": {
   "base_numbering": 1,
   "nav_menu": {},
   "number_sections": true,
   "sideBar": true,
   "skip_h1_title": false,
   "title_cell": "Table of Contents",
   "title_sidebar": "Contents",
   "toc_cell": false,
   "toc_position": {},
   "toc_section_display": true,
   "toc_window_display": false
  }
 },
 "nbformat": 4,
 "nbformat_minor": 2
}
