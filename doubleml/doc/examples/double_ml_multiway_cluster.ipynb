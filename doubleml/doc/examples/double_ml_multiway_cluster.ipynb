{
 "cells": [
  {
   "cell_type": "code",
   "execution_count": null,
   "metadata": {},
   "outputs": [],
   "source": [
    "import numpy as np\n",
    "import pandas as pd\n",
    "\n",
    "import matplotlib.pyplot as plt\n",
    "import seaborn as sns\n",
    "\n",
    "from scipy.linalg import toeplitz\n",
    "\n",
    "from sklearn.model_selection import KFold, RepeatedKFold\n",
    "from sklearn.base import clone\n",
    "\n",
    "from sklearn.ensemble import RandomForestRegressor\n",
    "from sklearn.linear_model import LinearRegression\n",
    "\n",
    "from dml.double_ml_data import DoubleMLData\n",
    "from dml.double_ml_pliv import DoubleMLPLIV\n",
    "from dml.double_ml_resampling import DoubleMLMultiwayResampling"
   ]
  },
  {
   "cell_type": "markdown",
   "metadata": {},
   "source": [
    "## Generate data using the example from https://arxiv.org/pdf/1909.03489.pdf"
   ]
  },
  {
   "cell_type": "code",
   "execution_count": null,
   "metadata": {},
   "outputs": [],
   "source": [
    "# simulation parameters\n",
    "N = 25\n",
    "M = 25\n",
    "C = 25\n",
    "dim_X = 100\n",
    "K = 3"
   ]
  },
  {
   "cell_type": "code",
   "execution_count": null,
   "metadata": {},
   "outputs": [],
   "source": [
    "# additional fixed parameters\n",
    "theta_0 = 1.0\n",
    "pi_10 = theta_0\n",
    "\n",
    "xx = np.arange(1,dim_X+1)\n",
    "zeta_0 = np.power(0.5, xx)\n",
    "pi_20 = zeta_0\n",
    "xi_0 = zeta_0\n",
    "\n",
    "omega_X = np.array([0.25, 0.5])\n",
    "omega_eps = omega_X\n",
    "omega_v = omega_X\n",
    "omega_V = omega_X\n",
    "\n",
    "s_X = 0.25\n",
    "s_epsv = s_X"
   ]
  },
  {
   "cell_type": "code",
   "execution_count": null,
   "metadata": {},
   "outputs": [],
   "source": [
    "# use np.tile() and np.repeat() for repeating vectors in different styles, i.e.,\n",
    "# np.tile([v1, v2, v3], 2) [v1, v2, v3, v1, v2, v3]\n",
    "# np.repeat([v1, v2, v3], 2) [v1, v1, v2, v2, v3, v3]"
   ]
  },
  {
   "cell_type": "code",
   "execution_count": null,
   "metadata": {},
   "outputs": [],
   "source": [
    "alpha_V = np.random.normal(size=(N*M))\n",
    "alpha_V_i = np.repeat(np.random.normal(size=N),\n",
    "                      M)\n",
    "alpha_V_j = np.tile(np.random.normal(size=M),\n",
    "                    N)"
   ]
  },
  {
   "cell_type": "code",
   "execution_count": null,
   "metadata": {},
   "outputs": [],
   "source": [
    "cov_mat = np.array([[1, s_epsv], [s_epsv, 1]])\n",
    "alpha_eps_v = np.random.multivariate_normal(np.zeros(2), cov_mat, size=[N*M,])\n",
    "alpha_eps = alpha_eps_v[:, 0]\n",
    "alpha_v = alpha_eps_v[:, 1]\n",
    "\n",
    "alpha_eps_v_i = np.random.multivariate_normal(np.zeros(2), cov_mat, size=[N,])\n",
    "alpha_eps_i = np.repeat(alpha_eps_v_i[:, 0], M)\n",
    "alpha_v_i = np.repeat(alpha_eps_v_i[:, 1], M)\n",
    "\n",
    "alpha_eps_v_j = np.random.multivariate_normal(np.zeros(2), cov_mat, size=[M,])\n",
    "alpha_eps_j = np.tile(alpha_eps_v_j[:, 0], N)\n",
    "alpha_v_j = np.tile(alpha_eps_v_j[:, 1], N)"
   ]
  },
  {
   "cell_type": "code",
   "execution_count": null,
   "metadata": {},
   "outputs": [],
   "source": [
    "cov_mat = toeplitz([np.power(s_X, k) for k in range(dim_X)])\n",
    "alpha_X = np.random.multivariate_normal(np.zeros(dim_X), cov_mat, size=[N*M,])\n",
    "alpha_X_i = np.repeat(np.random.multivariate_normal(np.zeros(dim_X), cov_mat, size=[N,]),\n",
    "                      M, axis = 0)\n",
    "alpha_X_j = np.tile(np.random.multivariate_normal(np.zeros(dim_X), cov_mat, size=[M,]),\n",
    "                    (N,1))"
   ]
  },
  {
   "cell_type": "code",
   "execution_count": null,
   "metadata": {},
   "outputs": [],
   "source": [
    "# generate variables\n",
    "X = (1 - omega_X[0] - omega_X[1]) * alpha_X \\\n",
    "      + omega_X[0] * alpha_X_i + omega_X[1] * alpha_X_j\n",
    "\n",
    "eps = (1 - omega_eps[0] - omega_eps[1]) * alpha_eps \\\n",
    "      + omega_eps[0] * alpha_eps_i + omega_eps[1] * alpha_eps_j\n",
    "\n",
    "v = (1 - omega_v[0] - omega_v[1]) * alpha_v \\\n",
    "    + omega_v[0] * alpha_v_i + omega_v[1] * alpha_v_j\n",
    "\n",
    "V = (1 - omega_V[0] - omega_V[1]) * alpha_V \\\n",
    "    + omega_V[0] * alpha_V_i + omega_V[1] * alpha_V_j"
   ]
  },
  {
   "cell_type": "code",
   "execution_count": null,
   "metadata": {},
   "outputs": [],
   "source": [
    "Z = np.matmul(X, xi_0) + V\n",
    "D = Z * pi_10 + np.matmul(X, pi_20) + v\n",
    "Y = D * theta_0 + np.matmul(X, zeta_0) + eps"
   ]
  },
  {
   "cell_type": "code",
   "execution_count": null,
   "metadata": {},
   "outputs": [],
   "source": [
    "ind = pd.MultiIndex.from_product([range(N), range(M)])\n",
    "cols = ['Y', 'D', 'Z', 'V'] + [f'x{i+1}' for i in np.arange(dim_X)]\n",
    "\n",
    "data = pd.DataFrame(np.column_stack((Y, D, Z, V, X)),\n",
    "                    columns=cols,\n",
    "                    index = ind)"
   ]
  },
  {
   "cell_type": "code",
   "execution_count": null,
   "metadata": {},
   "outputs": [],
   "source": [
    "# data with multi index for rows (tuples with two entries)\n",
    "data.head(30)"
   ]
  },
  {
   "cell_type": "markdown",
   "metadata": {},
   "source": [
    "## Initialize the objects of class DoubleMLData and DoubleMLPLIV"
   ]
  },
  {
   "cell_type": "code",
   "execution_count": null,
   "metadata": {},
   "outputs": [],
   "source": [
    "# collect data\n",
    "x_cols = data.columns[data.columns.str.startswith('x')].tolist()\n",
    "\n",
    "# Set machine learning methods for m & g\n",
    "learner = RandomForestRegressor(max_depth=2, n_estimators=10)\n",
    "ml_learners = {'ml_m': clone(clone(learner)),\n",
    "               'ml_g': clone(clone(learner)),\n",
    "               'ml_r': clone(clone(learner))}\n",
    "\n",
    "dml_pliv_obj = DoubleMLPLIV(data, x_cols, 'Y', ['D'], 'Z',\n",
    "                            ml_learners,\n",
    "                            inf_model='DML2018',\n",
    "                            dml_procedure='dml1',\n",
    "                            draw_sample_splitting=False)"
   ]
  },
  {
   "cell_type": "markdown",
   "metadata": {},
   "source": [
    "## Split samples and transfer the sample splitting to the object"
   ]
  },
  {
   "cell_type": "code",
   "execution_count": null,
   "metadata": {},
   "outputs": [],
   "source": [
    "smpl_sizes = [N, M]\n",
    "\n",
    "obj_dml_multiway_resampling = DoubleMLMultiwayResampling(K, smpl_sizes)\n",
    "\n",
    "smpls_multi_ind, smpls_lin_ind = obj_dml_multiway_resampling.split_samples()"
   ]
  },
  {
   "cell_type": "code",
   "execution_count": null,
   "metadata": {},
   "outputs": [],
   "source": [
    "dml_pliv_obj.set_sample_splitting([smpls_lin_ind])"
   ]
  },
  {
   "cell_type": "markdown",
   "metadata": {},
   "source": [
    "## Fit the model and return the fitted parameter"
   ]
  },
  {
   "cell_type": "code",
   "execution_count": null,
   "metadata": {},
   "outputs": [],
   "source": [
    "dml_pliv_obj.fit()"
   ]
  },
  {
   "cell_type": "code",
   "execution_count": null,
   "metadata": {},
   "outputs": [],
   "source": [
    "dml_pliv_obj.coef"
   ]
  },
  {
   "cell_type": "markdown",
   "metadata": {},
   "source": [
    "## Visualization of sample splitting with tuple and linear indexing"
   ]
  },
  {
   "cell_type": "code",
   "execution_count": null,
   "metadata": {},
   "outputs": [],
   "source": [
    "from matplotlib.colors import ListedColormap\n",
    "\n",
    "#discrete color scheme\n",
    "x = sns.color_palette(\"RdBu_r\", 7)\n",
    "cMap = ListedColormap([x[0], x[3], x[6]])"
   ]
  },
  {
   "cell_type": "code",
   "execution_count": null,
   "metadata": {},
   "outputs": [],
   "source": [
    "plt.rcParams['figure.figsize'] = 15, 12\n",
    "sns.set(font_scale=1.3)"
   ]
  },
  {
   "cell_type": "markdown",
   "metadata": {},
   "source": [
    "### Visualize sample splitting with tuples (one plot per fold)"
   ]
  },
  {
   "cell_type": "code",
   "execution_count": null,
   "metadata": {},
   "outputs": [],
   "source": [
    "for i_split, this_split_ind in enumerate(smpls_multi_ind):\n",
    "    plt.subplot(K, K, i_split+1)\n",
    "    df = pd.DataFrame(np.zeros([N,M]))\n",
    "    ind_array_train = np.array([*this_split_ind[0]])\n",
    "    ind_array_test = np.array([*this_split_ind[1]])\n",
    "    df.loc[ind_array_train[:, 0], ind_array_train[:, 1]] = -1.\n",
    "    df.loc[ind_array_test[:, 0], ind_array_test[:, 1]] = 1.\n",
    "    \n",
    "    ax = sns.heatmap(df, cmap=cMap);\n",
    "    ax.invert_yaxis();\n",
    "    ax.set_ylim([0, M]);\n",
    "    colorbar = ax.collections[0].colorbar\n",
    "    colorbar.set_ticks([-0.667, 0, 0.667])\n",
    "    if i_split % K == (K-1):\n",
    "        colorbar.set_ticklabels(['Nuisance', '', 'Score'])\n",
    "    else:\n",
    "        colorbar.set_ticklabels(['', '', ''])"
   ]
  },
  {
   "cell_type": "markdown",
   "metadata": {},
   "source": [
    "### Visualize sample splitting with linear indexing (one column per fold)"
   ]
  },
  {
   "cell_type": "code",
   "execution_count": null,
   "metadata": {},
   "outputs": [],
   "source": [
    "df = pd.DataFrame(np.zeros([N*M, K*K]))\n",
    "for i_split, this_split_ind in enumerate(smpls_lin_ind):\n",
    "    df.loc[this_split_ind[0], i_split] = -1.\n",
    "    df.loc[this_split_ind[1], i_split] = 1.\n",
    "\n",
    "ax = sns.heatmap(df, cmap=cMap);\n",
    "ax.invert_yaxis();\n",
    "ax.set_ylim([0, N*M]);\n",
    "colorbar = ax.collections[0].colorbar\n",
    "colorbar.set_ticks([-0.667, 0, 0.667])\n",
    "colorbar.set_ticklabels(['Nuisance', '', 'Score'])"
   ]
  },
  {
   "cell_type": "code",
   "execution_count": null,
   "metadata": {},
   "outputs": [],
   "source": []
  }
 ],
 "metadata": {
  "kernelspec": {
   "display_name": "Python 3",
   "language": "python",
   "name": "python3"
  },
  "language_info": {
   "codemirror_mode": {
    "name": "ipython",
    "version": 3
   },
   "file_extension": ".py",
   "mimetype": "text/x-python",
   "name": "python",
   "nbconvert_exporter": "python",
   "pygments_lexer": "ipython3",
   "version": "3.7.4"
  },
  "toc": {
   "base_numbering": 1,
   "nav_menu": {},
   "number_sections": true,
   "sideBar": true,
   "skip_h1_title": false,
   "title_cell": "Table of Contents",
   "title_sidebar": "Contents",
   "toc_cell": false,
   "toc_position": {},
   "toc_section_display": true,
   "toc_window_display": false
  }
 },
 "nbformat": 4,
 "nbformat_minor": 2
}
