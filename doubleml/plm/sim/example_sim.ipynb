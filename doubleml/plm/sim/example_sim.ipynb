{
 "cells": [
  {
   "cell_type": "markdown",
   "id": "01469cb2",
   "metadata": {},
   "source": [
    "### Double Machine Learning for Static Panel Models with Fixed Effects\n",
    "\n",
    "Extending the partially linear model to panel data by introducing fixed effects $\\alpha_i$ to give the partially linear panel regression (PLPR) model.\n",
    "\n",
    "Partialled-out PLPR (PO-PLPR) model:\n",
    "\n",
    "\\begin{align*}\n",
    "    Y_{it} &= \\theta_0 D_{it} + g_0(X_{it}) + \\alpha_i + U_{it} \\\\\n",
    "    D_{it} &= m_0(X_{it}) + \\gamma_i + V_{it}\n",
    "\\end{align*}\n",
    "\n",
    "- $Y_{it}$ outcome, $D_{it}$ treatment, $X_{it}$ covariates, $\\theta_0$ causal treatment effect\n",
    "- $g_0$ and $m_0$ nuisance functions\n",
    "- $\\alpha_i$, $\\gamma_i$ unobserved individual heterogeneity, correlated with covariates\n",
    "- $U_{it}$, $V_{it}$ error terms\n",
    "\n",
    "Further note $E[U_{it} \\mid D_{it}, X_{it}, \\alpha_i] = 0$, but $E[\\alpha_i \\mid D_{it}, X_{it}] \\neq 0$, and $E[V_{it} \\mid X_{it}, \\gamma_i]=0$\n",
    "\n",
    "#### 1 Correlated Random Effect Approach\n",
    "\n",
    "##### 1.1. General case:\n",
    "\n",
    "- Learning $g_0$ from $\\{ Y_{it}, X_{it}, \\bar{X}_i : t=1,\\dots, T \\}_{i=1}^N$\n",
    "- First learning $\\tilde{m}_0({\\cdot})$ from $\\{ D_{it}, X_{it}, \\bar{X}_i : t=1,\\dots, T \\}_{i=1}^N$ with prediction $\\hat{m}_{0it} = \\tilde{m}_0 (X_{it}, \\bar{X}_i) $\n",
    "    - Calculate $\\hat{\\bar{m}}_i = T^{-1} \\sum_{t=1}^T \\hat{m}_{0it} $\n",
    "    - Calculate final nuisance part as $ \\hat{m}^*_0 (X_{it}, \\bar{X}_i, \\bar{D}_i) = \\hat{m}_{0it} + \\bar{D}_i - \\hat{\\bar{m}}_i $ \n",
    "\n",
    "##### 1.2. Normal assumption:\n",
    "\n",
    "(conditional distribution $ D_{i1}, \\dots, D_{iT} \\mid X_{i1}, \\dots X_{iT} $ is multivariate normal)\n",
    "- Learn $m^*_{0}$ from $\\{ D_{it}, X_{it}, \\bar{X}_i, \\bar{D}_i: t=1,\\dots, T \\}_{i=1}^N$\n",
    "\n",
    "#### 2. Transformation Approaches\n",
    "\n",
    "##### 2.1. First Difference (FD) Transformation - Exact\n",
    "\n",
    "Consider FD transformation $Q(Y_{it})= Y_{it} - Y_{it-1} $, under Assumptions 3.1-3.5, transformed nuisance function can be learnt as\n",
    "\n",
    "- $ \\Delta g_0 (X_{it-1}, X_{it}) $ from $ \\{ Y_{it}-Y_{it-1}, X_{it-1}, X_{it} : t=2, \\dots , T \\}_{i=1}^N $\n",
    "- $ \\Delta m_0 (X_{it-1}, X_{it}) $ from $ \\{ D_{it}-D_{it-1}, X_{it-1}, X_{it} : t=2, \\dots , T \\}_{i=1}^N $\n",
    "\n",
    "##### 2.2. Within Group (WG) Transformation - Approximate\n",
    "\n",
    "For WG transformation $Q(X_{it})= X_{it} - \\bar{X}_{i} $, where $ \\bar{X}_{i} = T^{-1} \\sum_{t=1}^T X_{it} $. Approximate model\n",
    "\\begin{align*}\n",
    "    Q(Y_{it}) &\\approx \\theta_0 Q(D_{it}) + g_0 (Q(X_{it})) + Q(U_{it}) \\\\\n",
    "    Q(D_{it}) &\\approx m_0 (Q(X_{it})) + Q(V_{it})\n",
    "\\end{align*}\n",
    "\n",
    "- $g_0$ can be learnt from transformed data $ \\{ Q(Y_{it}), Q(X_{it}) : t=1,\\dots,T \\}_{i=1}^N $\n",
    "- $m_0$ can be learnt from transformed data $ \\{ Q(D_{it}), Q(X_{it}) : t=1,\\dots,T \\}_{i=1}^N $\n",
    "\n",
    "#### Implementation\n",
    "\n",
    "- Using block-k-fold cross-fitting, where the entire time series of the sampled unit is allocated to one fold to allow for possible serial correlation\n",
    "within each unit as is common with panel data\n",
    "\n",
    "- Cluster robust standard error\n",
    "\n",
    "$\\Rightarrow$ using id variable as cluster for DML"
   ]
  },
  {
   "cell_type": "code",
   "execution_count": 1,
   "id": "6dfa56df",
   "metadata": {},
   "outputs": [],
   "source": [
    "import numpy as np\n",
    "import pandas as pd\n",
    "import statsmodels.api as sm\n",
    "from doubleml.data.base_data import DoubleMLData\n",
    "from doubleml.plm.plpr import DoubleMLPLPR\n",
    "from sklearn.linear_model import LassoCV, LinearRegression\n",
    "from sklearn.base import clone\n",
    "from sklearn.preprocessing import StandardScaler\n",
    "from sklearn.pipeline import make_pipeline\n",
    "from doubleml.plm.utils._plpr_util import cre_fct, fd_fct, wd_fct, extend_data\n",
    "from doubleml.plm.datasets.dgp_static_panel_CP2025 import make_static_panel_CP2025\n",
    "import warnings\n",
    "import warnings\n",
    "warnings.filterwarnings(\"ignore\")"
   ]
  },
  {
   "cell_type": "code",
   "execution_count": 18,
   "id": "3c061cf1",
   "metadata": {},
   "outputs": [
    {
     "data": {
      "text/plain": [
       "(np.float64(0.6719371174913912),\n",
       " np.float64(0.6090488219157397),\n",
       " np.float64(0.7348254130670426))"
      ]
     },
     "execution_count": 18,
     "metadata": {},
     "output_type": "execute_result"
    }
   ],
   "source": [
    "np.random.seed(1)\n",
    "data = make_static_panel_CP2025(dgp_type='dgp1')\n",
    "\n",
    "x_cols = [col for col in data.columns if \"x\" in col]\n",
    "\n",
    "X = sm.add_constant(data[['d'] + x_cols])\n",
    "y = data['y']\n",
    "clusters = data['id']\n",
    "\n",
    "ols_model = sm.OLS(y, X).fit(cov_type='cluster', cov_kwds={'groups': clusters})\n",
    "ols_model.params['d'], ols_model.conf_int().loc['d'][0], ols_model.conf_int().loc['d'][1]"
   ]
  },
  {
   "cell_type": "code",
   "execution_count": 19,
   "id": "73c6599b",
   "metadata": {},
   "outputs": [
    {
     "name": "stdout",
     "output_type": "stream",
     "text": [
      "       coef   std err          t          P>|t|     2.5 %    97.5 %\n",
      "d  0.519934  0.020986  24.774727  1.678998e-135  0.478802  0.561067\n"
     ]
    }
   ],
   "source": [
    "# cre general\n",
    "data = make_static_panel_CP2025(dgp_type='dgp1')\n",
    "cre_data = cre_fct(data)\n",
    "\n",
    "x_cols = [col for col in cre_data.columns if \"x\" in col]\n",
    "\n",
    "obj_dml_data_pdml = DoubleMLData(cre_data,\n",
    "                                 y_col='y',\n",
    "                                 d_cols='d',\n",
    "                                 cluster_cols='id',\n",
    "                                 x_cols=x_cols)\n",
    "\n",
    "learner = LassoCV()\n",
    "ml_l = clone(learner)\n",
    "ml_m = clone(learner)\n",
    "\n",
    "obj_dml_plpr = DoubleMLPLPR(obj_dml_data_pdml, ml_l=ml_l, ml_m=ml_m,\n",
    "                            pdml_approach='cre_general', n_folds=5\n",
    "                            )\n",
    "\n",
    "obj_dml_plpr.fit()\n",
    "print(obj_dml_plpr.summary)"
   ]
  },
  {
   "cell_type": "code",
   "execution_count": null,
   "id": "7deabe55",
   "metadata": {},
   "outputs": [],
   "source": [
    "# model rmse\n",
    "\n",
    "# u_hat = obj_dml_plpr._dml_data.y - obj_dml_plpr.predictions['ml_l'].flatten()\n",
    "# v_hat = obj_dml_plpr._dml_data.d - obj_dml_plpr.predictions['ml_m'].flatten()\n",
    "\n",
    "# np.sqrt(np.mean((u_hat - (obj_dml_plpr.coef[0] * v_hat))**2))"
   ]
  },
  {
   "cell_type": "code",
   "execution_count": 4,
   "id": "83663379",
   "metadata": {},
   "outputs": [
    {
     "name": "stdout",
     "output_type": "stream",
     "text": [
      "================== DoubleMLPLPR Object ==================\n",
      "\n",
      "------------------ Data summary      ------------------\n",
      "Outcome variable: y\n",
      "Treatment variable(s): ['d']\n",
      "Covariates: ['x1', 'x2', 'x3', 'x4', 'x5', 'x6', 'x7', 'x8', 'x9', 'x10', 'x11', 'x12', 'x13', 'x14', 'x15', 'x16', 'x17', 'x18', 'x19', 'x20', 'x21', 'x22', 'x23', 'x24', 'x25', 'x26', 'x27', 'x28', 'x29', 'x30', 'm_x1', 'm_x2', 'm_x3', 'm_x4', 'm_x5', 'm_x6', 'm_x7', 'm_x8', 'm_x9', 'm_x10', 'm_x11', 'm_x12', 'm_x13', 'm_x14', 'm_x15', 'm_x16', 'm_x17', 'm_x18', 'm_x19', 'm_x20', 'm_x21', 'm_x22', 'm_x23', 'm_x24', 'm_x25', 'm_x26', 'm_x27', 'm_x28', 'm_x29', 'm_x30']\n",
      "Instrument variable(s): None\n",
      "Cluster variable(s): ['id']\n",
      "Is cluster data: True\n",
      "No. Observations: 2500\n",
      "\n",
      "------------------ Score & algorithm ------------------\n",
      "Score function: partialling out\n",
      "Static panel model approach: cre_general\n",
      "\n",
      "------------------ Machine learner   ------------------\n",
      "Learner ml_l: LassoCV()\n",
      "Learner ml_m: LassoCV()\n",
      "Out-of-sample Performance:\n",
      "Regression:\n",
      "Learner ml_l RMSE: [[1.63784321]]\n",
      "Learner ml_m RMSE: [[0.96294553]]\n",
      "\n",
      "------------------ Resampling        ------------------\n",
      "No. folds per cluster: 5\n",
      "No. folds: 5\n",
      "No. repeated sample splits: 1\n",
      "\n",
      "------------------ Fit summary       ------------------\n",
      "       coef   std err          t          P>|t|     2.5 %    97.5 %\n",
      "d  0.519934  0.020986  24.774727  1.678998e-135  0.478802  0.561067\n"
     ]
    }
   ],
   "source": [
    "print(obj_dml_plpr)"
   ]
  },
  {
   "cell_type": "markdown",
   "id": "0c47504d",
   "metadata": {},
   "source": [
    "Using Panel Data Class"
   ]
  },
  {
   "cell_type": "code",
   "execution_count": 10,
   "id": "4290cd61",
   "metadata": {},
   "outputs": [
    {
     "name": "stdout",
     "output_type": "stream",
     "text": [
      "================== DoubleMLPanelData Object ==================\n",
      "\n",
      "------------------ Data summary      ------------------\n",
      "Outcome variable: y\n",
      "Treatment variable(s): ['d']\n",
      "Covariates: ['x1', 'x2', 'x3', 'x4', 'x5', 'x6', 'x7', 'x8', 'x9', 'x10', 'x11', 'x12', 'x13', 'x14', 'x15', 'x16', 'x17', 'x18', 'x19', 'x20', 'x21', 'x22', 'x23', 'x24', 'x25', 'x26', 'x27', 'x28', 'x29', 'x30', 'm_x1', 'm_x2', 'm_x3', 'm_x4', 'm_x5', 'm_x6', 'm_x7', 'm_x8', 'm_x9', 'm_x10', 'm_x11', 'm_x12', 'm_x13', 'm_x14', 'm_x15', 'm_x16', 'm_x17', 'm_x18', 'm_x19', 'm_x20', 'm_x21', 'm_x22', 'm_x23', 'm_x24', 'm_x25', 'm_x26', 'm_x27', 'm_x28', 'm_x29', 'm_x30']\n",
      "Instrument variable(s): None\n",
      "Time variable: time\n",
      "Id variable: id\n",
      "No. Unique Ids: 250\n",
      "No. Observations: 2500\n",
      "\n",
      "------------------ DataFrame info    ------------------\n",
      "<class 'pandas.core.frame.DataFrame'>\n",
      "RangeIndex: 2500 entries, 0 to 2499\n",
      "Columns: 65 entries, id to m_x30\n",
      "dtypes: float64(63), int64(2)\n",
      "memory usage: 1.2 MB\n",
      "\n"
     ]
    }
   ],
   "source": [
    "from doubleml.data.panel_data import DoubleMLPanelData\n",
    "\n",
    "data = make_static_panel_CP2025(dgp_type='dgp1')\n",
    "cre_data = cre_fct(data)\n",
    "\n",
    "x_cols = [col for col in cre_data.columns if \"x\" in col]\n",
    "\n",
    "obj_dml_data_pdml = DoubleMLPanelData(cre_data,\n",
    "                                      y_col='y',\n",
    "                                      d_cols='d',\n",
    "                                      t_col='time',\n",
    "                                      id_col='id',\n",
    "                                      x_cols=x_cols,\n",
    "                                      static_panel=True)\n",
    "\n",
    "print(obj_dml_data_pdml)"
   ]
  },
  {
   "cell_type": "code",
   "execution_count": 5,
   "id": "24f06d62",
   "metadata": {},
   "outputs": [
    {
     "name": "stdout",
     "output_type": "stream",
     "text": [
      "       coef  std err          t          P>|t|     2.5 %    97.5 %\n",
      "d  0.548085  0.02097  26.136802  1.392306e-150  0.506985  0.589186\n"
     ]
    }
   ],
   "source": [
    "# cre normality assumption\n",
    "data = make_static_panel_CP2025(dgp_type='dgp1')\n",
    "cre_data = cre_fct(data)\n",
    "\n",
    "x_cols = [col for col in cre_data.columns if \"x\" in col]\n",
    "\n",
    "obj_dml_data_pdml = DoubleMLData(cre_data,\n",
    "                                 y_col='y',\n",
    "                                 d_cols='d',\n",
    "                                 cluster_cols='id',\n",
    "                                 x_cols=x_cols)\n",
    "\n",
    "# learner = LassoCV()\n",
    "learner = make_pipeline(StandardScaler(), LassoCV())\n",
    "\n",
    "ml_l = clone(learner)\n",
    "ml_m = clone(learner)\n",
    "\n",
    "obj_dml_plpr = DoubleMLPLPR(obj_dml_data_pdml, ml_l, ml_m, pdml_approach='cre')\n",
    "obj_dml_plpr.fit()\n",
    "print(obj_dml_plpr.summary)"
   ]
  },
  {
   "cell_type": "code",
   "execution_count": 6,
   "id": "61a72563",
   "metadata": {},
   "outputs": [
    {
     "name": "stdout",
     "output_type": "stream",
     "text": [
      "            coef   std err         t         P>|t|     2.5 %    97.5 %\n",
      "d_diff  0.492487  0.025352  19.42565  4.684180e-84  0.442797  0.542176\n"
     ]
    }
   ],
   "source": [
    "data = make_static_panel_CP2025(dgp_type='dgp1')\n",
    "fd_data = fd_fct(data)\n",
    "\n",
    "obj_dml_data_pdml = DoubleMLData(fd_data,\n",
    "                                 y_col='y_diff',\n",
    "                                 d_cols='d_diff',\n",
    "                                 cluster_cols='id',\n",
    "                                 x_cols=[col for col in fd_data.columns if col.startswith(\"x\")])\n",
    "\n",
    "learner = LassoCV()\n",
    "ml_l = clone(learner)\n",
    "ml_m = clone(learner)\n",
    "\n",
    "obj_dml_plpr = DoubleMLPLPR(obj_dml_data_pdml, ml_l, ml_m, pdml_approach='transform')\n",
    "obj_dml_plpr.fit()\n",
    "print(obj_dml_plpr.summary)"
   ]
  },
  {
   "cell_type": "code",
   "execution_count": 10,
   "id": "aeb00efe",
   "metadata": {},
   "outputs": [
    {
     "name": "stdout",
     "output_type": "stream",
     "text": [
      "     coef   std err          t          P>|t|     2.5 %    97.5 %\n",
      "d  0.5089  0.019913  25.555893  4.722065e-144  0.469871  0.547929\n"
     ]
    }
   ],
   "source": [
    "data = make_static_panel_CP2025(dgp_type='dgp1')\n",
    "wd_data = wd_fct(data)\n",
    "\n",
    "obj_dml_data_pdml = DoubleMLData(wd_data,\n",
    "                                 y_col='y',\n",
    "                                 d_cols='d',\n",
    "                                 cluster_cols='id',\n",
    "                                 x_cols=[col for col in wd_data.columns if col.startswith(\"x\")])\n",
    "\n",
    "learner = LassoCV()\n",
    "ml_l = clone(learner)\n",
    "ml_m = clone(learner)\n",
    "\n",
    "obj_dml_plpr = DoubleMLPLPR(obj_dml_data_pdml, ml_l, ml_m, pdml_approach='transform')\n",
    "obj_dml_plpr.fit()\n",
    "print(obj_dml_plpr.summary)"
   ]
  },
  {
   "cell_type": "code",
   "execution_count": 13,
   "id": "586d5edf",
   "metadata": {},
   "outputs": [
    {
     "name": "stdout",
     "output_type": "stream",
     "text": [
      "Processing: 100.0 %"
     ]
    }
   ],
   "source": [
    "n_reps = 100\n",
    "theta = 0.5\n",
    "\n",
    "learner = make_pipeline(StandardScaler(), LassoCV())\n",
    "\n",
    "leaner_ols = LinearRegression()\n",
    "\n",
    "res_cre_ols = np.full((n_reps, 3), np.nan)\n",
    "res_cre_general = np.full((n_reps, 3), np.nan)\n",
    "res_cre_normal = np.full((n_reps, 3), np.nan)\n",
    "res_fd = np.full((n_reps, 3), np.nan)\n",
    "res_fd_cluster = np.full((n_reps, 3), np.nan)\n",
    "res_wd = np.full((n_reps, 3), np.nan)\n",
    "\n",
    "np.random.seed(1)\n",
    "\n",
    "for i in range(n_reps):\n",
    "    print(f\"\\rProcessing: {round((i+1)/n_reps*100, 3)} %\", end=\"\")\n",
    "    data = make_static_panel_CP2025(num_n=100, theta=theta, dgp_type='dgp1')\n",
    "\n",
    "    # CRE general OLS\n",
    "    cre_data = cre_fct(data)\n",
    "    dml_data = DoubleMLData(cre_data, y_col='y', d_cols='d', cluster_cols='id', \n",
    "                            x_cols=[col for col in cre_data.columns if \"x\" in col])\n",
    "    dml_plpr = DoubleMLPLPR(dml_data, clone(leaner_ols), clone(leaner_ols), n_folds=5, pdml_approach='cre_general')\n",
    "    dml_plpr.fit()\n",
    "    res_cre_ols[i, 0] = dml_plpr.coef[0]\n",
    "    res_cre_ols[i, 1] = dml_plpr.coef[0] - theta\n",
    "    confint = dml_plpr.confint()\n",
    "    res_cre_ols[i, 2] = (confint['2.5 %'].iloc[0] <= theta) & (confint['97.5 %'].iloc[0] >= theta)\n",
    "\n",
    "    # CRE general Lasso\n",
    "    dml_plpr = DoubleMLPLPR(dml_data, clone(learner), clone(learner), n_folds=5, pdml_approach='cre_general')\n",
    "    dml_plpr.fit()\n",
    "    res_cre_general[i, 0] = dml_plpr.coef[0]\n",
    "    res_cre_general[i, 1] = dml_plpr.coef[0] - theta\n",
    "    confint = dml_plpr.confint()\n",
    "    res_cre_general[i, 2] = (confint['2.5 %'].iloc[0] <= theta) & (confint['97.5 %'].iloc[0] >= theta)\n",
    "\n",
    "    # CRE normality\n",
    "    dml_data = DoubleMLData(cre_data, y_col='y', d_cols='d', cluster_cols='id', \n",
    "                            x_cols=[col for col in cre_data.columns if \"x\" in col]\n",
    "                                   )\n",
    "    dml_plpr = DoubleMLPLPR(dml_data, clone(learner), clone(learner), n_folds=5, pdml_approach='cre')\n",
    "    dml_plpr.fit()\n",
    "    res_cre_normal[i, 0] = dml_plpr.coef[0]\n",
    "    res_cre_normal[i, 1] = dml_plpr.coef[0] - theta\n",
    "    confint = dml_plpr.confint()\n",
    "    res_cre_normal[i, 2] = (confint['2.5 %'].iloc[0] <= theta) & (confint['97.5 %'].iloc[0] >= theta)\n",
    "\n",
    "    # FD approach\n",
    "    fd_data = fd_fct(data)\n",
    "    dml_data = DoubleMLData(fd_data, y_col='y_diff', d_cols='d_diff', cluster_cols='id',\n",
    "                            x_cols=[col for col in fd_data.columns if col.startswith(\"x\")])\n",
    "    dml_plpr = DoubleMLPLPR(dml_data, clone(learner), clone(learner), n_folds=5, pdml_approach='transform')\n",
    "    dml_plpr.fit()\n",
    "    res_fd[i, 0] = dml_plpr.coef[0]\n",
    "    res_fd[i, 1] = dml_plpr.coef[0] - theta\n",
    "    confint = dml_plpr.confint()\n",
    "    res_fd[i, 2] = (confint['2.5 %'].iloc[0] <= theta) & (confint['97.5 %'].iloc[0] >= theta)\n",
    "    # no cluster\n",
    "    dml_data = DoubleMLData(fd_data, y_col='y_diff', d_cols='d_diff',\n",
    "                            x_cols=[col for col in fd_data.columns if col.startswith(\"x\")])\n",
    "    dml_plpr = DoubleMLPLPR(dml_data, clone(learner), clone(learner), n_folds=5, pdml_approach='transform')\n",
    "    dml_plpr.fit()\n",
    "    res_fd_cluster[i, 0] = dml_plpr.coef[0]\n",
    "    res_fd_cluster[i, 1] = dml_plpr.coef[0] - theta\n",
    "    confint = dml_plpr.confint()\n",
    "    res_fd_cluster[i, 2] = (confint['2.5 %'].iloc[0] <= theta) & (confint['97.5 %'].iloc[0] >= theta)\n",
    "    \n",
    "    # WD approach\n",
    "    wd_data = wd_fct(data)\n",
    "    dml_data = DoubleMLData(wd_data, y_col='y', d_cols='d', cluster_cols='id',\n",
    "                            x_cols=[col for col in wd_data.columns if \"x\" in col])\n",
    "    dml_plpr = DoubleMLPLPR(dml_data, clone(learner), clone(learner), n_folds=5, pdml_approach='transform')\n",
    "    dml_plpr.fit()\n",
    "    res_wd[i, 0] = dml_plpr.coef[0]\n",
    "    res_wd[i, 1] = dml_plpr.coef[0] - theta\n",
    "    confint = dml_plpr.confint()\n",
    "    res_wd[i, 2] = (confint['2.5 %'].iloc[0] <= theta) & (confint['97.5 %'].iloc[0] >= theta)"
   ]
  },
  {
   "cell_type": "code",
   "execution_count": 16,
   "id": "edb9e3d5",
   "metadata": {},
   "outputs": [
    {
     "data": {
      "text/html": [
       "<div>\n",
       "<style scoped>\n",
       "    .dataframe tbody tr th:only-of-type {\n",
       "        vertical-align: middle;\n",
       "    }\n",
       "\n",
       "    .dataframe tbody tr th {\n",
       "        vertical-align: top;\n",
       "    }\n",
       "\n",
       "    .dataframe thead th {\n",
       "        text-align: right;\n",
       "    }\n",
       "</style>\n",
       "<table border=\"1\" class=\"dataframe\">\n",
       "  <thead>\n",
       "    <tr style=\"text-align: right;\">\n",
       "      <th></th>\n",
       "      <th>Coef</th>\n",
       "      <th>Bias</th>\n",
       "      <th>Coverage</th>\n",
       "    </tr>\n",
       "  </thead>\n",
       "  <tbody>\n",
       "    <tr>\n",
       "      <th>CRE OLS</th>\n",
       "      <td>0.498516</td>\n",
       "      <td>-0.001484</td>\n",
       "      <td>0.94</td>\n",
       "    </tr>\n",
       "    <tr>\n",
       "      <th>CRE general</th>\n",
       "      <td>0.517304</td>\n",
       "      <td>0.017304</td>\n",
       "      <td>0.91</td>\n",
       "    </tr>\n",
       "    <tr>\n",
       "      <th>CRE normality</th>\n",
       "      <td>0.540535</td>\n",
       "      <td>0.040535</td>\n",
       "      <td>0.80</td>\n",
       "    </tr>\n",
       "    <tr>\n",
       "      <th>FD</th>\n",
       "      <td>0.504695</td>\n",
       "      <td>0.004695</td>\n",
       "      <td>0.95</td>\n",
       "    </tr>\n",
       "    <tr>\n",
       "      <th>FD no cluster</th>\n",
       "      <td>0.503954</td>\n",
       "      <td>0.003954</td>\n",
       "      <td>0.87</td>\n",
       "    </tr>\n",
       "    <tr>\n",
       "      <th>WD</th>\n",
       "      <td>0.502402</td>\n",
       "      <td>0.002402</td>\n",
       "      <td>0.93</td>\n",
       "    </tr>\n",
       "  </tbody>\n",
       "</table>\n",
       "</div>"
      ],
      "text/plain": [
       "                   Coef      Bias  Coverage\n",
       "CRE OLS        0.498516 -0.001484      0.94\n",
       "CRE general    0.517304  0.017304      0.91\n",
       "CRE normality  0.540535  0.040535      0.80\n",
       "FD             0.504695  0.004695      0.95\n",
       "FD no cluster  0.503954  0.003954      0.87\n",
       "WD             0.502402  0.002402      0.93"
      ]
     },
     "execution_count": 16,
     "metadata": {},
     "output_type": "execute_result"
    }
   ],
   "source": [
    "pd.DataFrame(np.vstack([res_cre_ols.mean(axis=0), res_cre_general.mean(axis=0), res_cre_normal.mean(axis=0), \n",
    "                        res_fd.mean(axis=0), res_fd_cluster.mean(axis=0), res_wd.mean(axis=0)]), \n",
    "                        columns=['Coef', 'Bias', 'Coverage'], \n",
    "                        index=['CRE OLS', 'CRE general', 'CRE normality', \n",
    "                               'FD', 'FD no cluster', 'WD'])"
   ]
  }
 ],
 "metadata": {
  "kernelspec": {
   "display_name": ".venv",
   "language": "python",
   "name": "python3"
  },
  "language_info": {
   "codemirror_mode": {
    "name": "ipython",
    "version": 3
   },
   "file_extension": ".py",
   "mimetype": "text/x-python",
   "name": "python",
   "nbconvert_exporter": "python",
   "pygments_lexer": "ipython3",
   "version": "3.12.6"
  }
 },
 "nbformat": 4,
 "nbformat_minor": 5
}
