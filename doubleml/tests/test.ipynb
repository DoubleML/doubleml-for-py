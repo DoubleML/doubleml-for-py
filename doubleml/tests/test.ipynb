{
 "cells": [
  {
   "cell_type": "code",
   "execution_count": 2,
   "metadata": {},
   "outputs": [],
   "source": [
    "import doubleml as dml\n",
    "import numpy as np\n",
    "import pandas as pd\n",
    "from _utils_pt_manual import fit_policytree\n",
    "import copy\n",
    "import pytest\n",
    "from sklearn.exceptions import NotFittedError"
   ]
  },
  {
   "cell_type": "code",
   "execution_count": 3,
   "metadata": {},
   "outputs": [],
   "source": [
    "def dml_policytree_fixture(depth):\n",
    "    n = 50\n",
    "    np.random.seed(42)\n",
    "    random_x_var = pd.DataFrame(np.random.normal(0, 1, size=(n, 3)))\n",
    "    random_signal = np.random.normal(0, 1, size=(n, ))\n",
    "\n",
    "    policy_tree = dml.DoubleMLPolicyTree(random_signal, random_x_var, depth=depth)\n",
    "\n",
    "    policy_tree_obj = copy.copy(policy_tree)\n",
    "    np.random.seed(42)\n",
    "    policy_tree.fit()\n",
    "    np.random.seed(42)\n",
    "    policy_tree_manual = fit_policytree(random_signal, random_x_var, depth=depth)\n",
    "\n",
    "    res_dict = {'tree': policy_tree.policy_tree.tree_,\n",
    "                'tree_manual': policy_tree_manual.tree_,\n",
    "                'x_vars': policy_tree.x_vars,\n",
    "                'signal': policy_tree.orth_signal,\n",
    "                'policytree_model': policy_tree,\n",
    "                'unfitted_policytree_model': policy_tree_obj}\n",
    "\n",
    "    return res_dict\n"
   ]
  },
  {
   "cell_type": "code",
   "execution_count": 4,
   "metadata": {},
   "outputs": [],
   "source": [
    "def compare_nodes(node1, node2):\n",
    "    if node1.children_left is None:  # Leaf node\n",
    "        return node2.children_left is None\n",
    "    else:\n",
    "        return (\n",
    "            (node1.feature == node2.feature) and\n",
    "            (node1.threshold == node2.threshold) and\n",
    "            compare_nodes(tree1.children_left[node1.children_left], tree2.children_left[node2.children_left]) and\n",
    "            compare_nodes(tree1.children_right[node1.children_right], tree2.children_right[node2.children_right])\n",
    "        )"
   ]
  },
  {
   "cell_type": "code",
   "execution_count": 5,
   "metadata": {},
   "outputs": [],
   "source": [
    "hallo = dml_policytree_fixture(2)"
   ]
  },
  {
   "cell_type": "code",
   "execution_count": 6,
   "metadata": {},
   "outputs": [
    {
     "data": {
      "text/plain": [
       "True"
      ]
     },
     "execution_count": 6,
     "metadata": {},
     "output_type": "execute_result"
    }
   ],
   "source": [
    "np.allclose(hallo['tree'].threshold,\n",
    "                       hallo['tree_manual'].threshold,\n",
    "                       rtol=1e-9, atol=1e-4)"
   ]
  },
  {
   "cell_type": "code",
   "execution_count": 7,
   "metadata": {},
   "outputs": [],
   "source": [
    "from sklearn.tree import DecisionTreeClassifier\n",
    "assert isinstance(hallo['policytree_model'].__str__(), str)\n",
    "assert isinstance(hallo['policytree_model'].summary, pd.DataFrame)\n",
    "assert isinstance(hallo['policytree_model'].policy_tree, DecisionTreeClassifier)"
   ]
  },
  {
   "cell_type": "code",
   "execution_count": 8,
   "metadata": {},
   "outputs": [],
   "source": [
    "msg = \"The features must have the keys Index(['a', 'b', 'c'], dtype='object'). Features with keys Index(['d'], dtype='object') were passed.\""
   ]
  },
  {
   "cell_type": "code",
   "execution_count": 13,
   "metadata": {},
   "outputs": [],
   "source": [
    "random_x_vars = pd.DataFrame(np.random.normal(0, 1, size=(2, 3)), columns=['a', 'b', 'c'])\n",
    "signal = np.array([1, 2])\n",
    "\n",
    "msg = \"The signal must be of np.ndarray type. Signal of type <class 'int'> was passed.\"\n",
    "with pytest.raises(TypeError, match=msg):\n",
    "    dml.DoubleMLPolicyTree(orth_signal=1, x_vars=random_x_vars)\n",
    "msg = 'The signal must be of one dimensional. Signal of dimensions 2 was passed.'\n",
    "with pytest.raises(ValueError, match=msg):\n",
    "    dml.DoubleMLPolicyTree(orth_signal=np.array([[1], [2]]), x_vars=random_x_vars)\n",
    "msg = \"The features must be of DataFrame type. Features of type <class 'int'> was passed.\"\n",
    "with pytest.raises(TypeError, match=msg):\n",
    "    dml.DoubleMLPolicyTree(orth_signal=signal, x_vars=1)\n",
    "msg = 'Invalid pd.DataFrame: Contains duplicate column names.'\n",
    "with pytest.raises(ValueError, match=msg):\n",
    "    dml.DoubleMLPolicyTree(orth_signal=signal, x_vars=pd.DataFrame(np.array([[1, 2], [4, 5]]),\n",
    "                                                            columns=['a_1', 'a_1']))\n",
    "\n",
    "dml_policytree_predict = dml.DoubleMLPolicyTree(orth_signal=signal, x_vars=random_x_vars)\n",
    "msg = 'Policy Tree not yet fitted. Call fit before predict.'\n",
    "with pytest.raises(NotFittedError, match=msg):\n",
    "    dml_policytree_predict.predict(random_x_vars)\n",
    "\n",
    "dml_policytree_predict.fit()\n",
    "msg = \"The features must be of DataFrame type. Features of type <class 'int'> was passed.\"\n",
    "with pytest.raises(TypeError, match=msg):\n",
    "    dml_policytree_predict.predict(x_vars=1)\n",
    "msg = r'The features must have the keys Index\\(\\[\\'a\\', \\'b\\', \\'c\\'\\], dtype\\=\\'object\\'\\). Features with keys Index\\(\\[\\'d\\'\\], dtype=\\'object\\'\\) were passed.'\n",
    "with pytest.raises(KeyError, match=msg):\n",
    "    dml_policytree_predict.predict(x_vars=pd.DataFrame({\"d\": [3,4]}))\n",
    "\n",
    "dml_policytree_plot = dml.DoubleMLPolicyTree(orth_signal=signal, x_vars=random_x_vars)\n",
    "msg = 'Policy Tree not yet fitted. Call fit before plot_tree.'\n",
    "with pytest.raises(NotFittedError, match=msg):\n",
    "    dml_policytree_plot.plot_tree()"
   ]
  },
  {
   "cell_type": "code",
   "execution_count": 21,
   "metadata": {},
   "outputs": [],
   "source": [
    "depth=1\n",
    "n = 50\n",
    "np.random.seed(42)\n",
    "random_x_var = pd.DataFrame(np.random.normal(0, 1, size=(n, 3)))\n",
    "random_signal = np.random.normal(0, 1, size=(n, ))\n",
    "\n",
    "policy_tree = dml.DoubleMLPolicyTree(random_signal, random_x_var, depth)\n",
    "\n",
    "policy_tree_obj = copy.copy(policy_tree)\n",
    "np.random.seed(42)\n",
    "policy_tree.fit()\n",
    "np.random.seed(42)\n",
    "policy_tree_manual = fit_policytree(random_signal, random_x_var, depth)\n",
    "\n",
    "res_dict = {'tree': policy_tree.policy_tree.tree_,\n",
    "            'tree_manual': policy_tree_manual.tree_,\n",
    "            'x_vars': policy_tree.x_vars,\n",
    "            'signal': policy_tree.orth_signal,\n",
    "            'policytree_model': policy_tree,\n",
    "            'unfitted_policytree_model': policy_tree_obj}\n",
    "\n",
    "dml_policytree_fixture = res_dict"
   ]
  },
  {
   "cell_type": "code",
   "execution_count": 37,
   "metadata": {},
   "outputs": [
    {
     "data": {
      "text/plain": [
       "[0, 1, 2]"
      ]
     },
     "execution_count": 37,
     "metadata": {},
     "output_type": "execute_result"
    }
   ],
   "source": [
    "list(random_x_var.keys())"
   ]
  }
 ],
 "metadata": {
  "kernelspec": {
   "display_name": "dml-pt",
   "language": "python",
   "name": "python3"
  },
  "language_info": {
   "codemirror_mode": {
    "name": "ipython",
    "version": 3
   },
   "file_extension": ".py",
   "mimetype": "text/x-python",
   "name": "python",
   "nbconvert_exporter": "python",
   "pygments_lexer": "ipython3",
   "version": "3.11.4"
  },
  "orig_nbformat": 4
 },
 "nbformat": 4,
 "nbformat_minor": 2
}
